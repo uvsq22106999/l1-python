{
 "cells": [
  {
   "cell_type": "markdown",
   "source": [
    "# Cours 1 : premiers pas avec Python"
   ],
   "metadata": {
    "slideshow": {
     "slide_type": "slide"
    }
   }
  },
  {
   "cell_type": "markdown",
   "source": [
    "## 1. Utilisation du notebook Python\r\n",
    "---\r\n",
    "\r\n",
    "Un notebook est constitué de 2 sortes de *cellules*:\r\n",
    "\r\n",
    "* celles qui affichent du *texte formaté* \r\n",
    "* celles qui évaluent du *code Python*\r\n",
    "\r\n",
    "Ceci est une cellule de texte qui peut être éditée en double-cliquant dessus.\r\n",
    "On voit apparaître des *commandes* du langage [markdown](https://fr.wikipedia.org/wiki/Markdown).\r\n",
    "\r\n",
    "Voici maintenant une cellule de code Python:"
   ],
   "metadata": {
    "slideshow": {
     "slide_type": "slide"
    }
   }
  },
  {
   "cell_type": "code",
   "execution_count": null,
   "source": [
    "5 + 3.2 / 10"
   ],
   "outputs": [],
   "metadata": {
    "slideshow": {
     "slide_type": "fragment"
    }
   }
  },
  {
   "cell_type": "markdown",
   "source": [
    "Le notebook permet d'écrire des programmes très lisibles, mais l'usage des outils de programmation est limité."
   ],
   "metadata": {
    "slideshow": {
     "slide_type": "fragment"
    }
   }
  },
  {
   "cell_type": "markdown",
   "source": [
    "**Evaluation d'une cellule de code**\r\n",
    "\r\n",
    "---"
   ],
   "metadata": {
    "slideshow": {
     "slide_type": "subslide"
    }
   }
  },
  {
   "cell_type": "code",
   "execution_count": null,
   "source": [
    "5 + 3.2 / 10"
   ],
   "outputs": [],
   "metadata": {
    "slideshow": {
     "slide_type": "fragment"
    }
   }
  },
  {
   "cell_type": "markdown",
   "source": [
    "Pour évaluer cette *expression* numérique, taper sur les touches `SHIFT + ENTREE` du clavier après avoir cliqué sur la cellule. Apparaissent alors:\r\n",
    "* un texte en sortie qui est la *valeur de l'expression*\r\n",
    "* un numéro à côté de la cellule qui est son *ordre d'évaluation* qui peut être différent de son ordre d'apparition."
   ],
   "metadata": {
    "slideshow": {
     "slide_type": "fragment"
    }
   }
  },
  {
   "cell_type": "markdown",
   "source": [
    "**Le notebook comme une calculatrice**\r\n",
    "\r\n",
    "---\r\n",
    "Dans le cours de Python, vos notes sont `8.5`, `12` et `9.5` de coefficients respectifs `1`, `2` et `3`. Avez-vous obtenu la moyenne?\r\n"
   ],
   "metadata": {
    "slideshow": {
     "slide_type": "subslide"
    }
   }
  },
  {
   "cell_type": "code",
   "execution_count": null,
   "source": [
    "(8.5 * 1 + 12 * 2 + 9.5 * 3) / (1 + 2 + 3)\r\n"
   ],
   "outputs": [],
   "metadata": {
    "slideshow": {
     "slide_type": "fragment"
    }
   }
  },
  {
   "cell_type": "markdown",
   "source": [
    "**Quelques commentaires**\r\n",
    "\r\n",
    "---"
   ],
   "metadata": {
    "slideshow": {
     "slide_type": "subslide"
    }
   }
  },
  {
   "cell_type": "code",
   "execution_count": null,
   "source": [
    "(8.5 * 1 + 12 * 2 + 9.5 * 3) / (1 + 2 + 3) >= 10"
   ],
   "outputs": [],
   "metadata": {
    "slideshow": {
     "slide_type": "fragment"
    }
   }
  },
  {
   "cell_type": "markdown",
   "source": [
    "* les nombres flottants s'écrivent avec un point et pas une virgule;\r\n",
    "* les caractères `+`, `*`, `>=`, etc. s'appellent des *opérateurs*;\r\n",
    "* les règles de priorité des expressions mathématiques s'appliquent et peuvent nécessiter l'usage des parenthèses;\r\n",
    "* les espaces sont facultatifs, mais les règles de style recommandent (voir [PEP8](https://www.python.org/dev/peps/pep-0008/)):\r\n",
    "    * un seul espace avant et après les opérateurs (+, /, etc...);\r\n",
    "    * pas d'espace à l'intérieur des parenthèses;\r\n",
    "    * si pas trop longue, l'expression est écrite sur une seule ligne"
   ],
   "metadata": {
    "slideshow": {
     "slide_type": "fragment"
    }
   }
  },
  {
   "cell_type": "markdown",
   "source": [
    "**Stocker un résultat**\r\n",
    "\r\n",
    "---\r\n",
    "\r\n",
    "L'instruction suivante sauve le résultat de l'expression `2 ** 10` dans la *variable* `a`."
   ],
   "metadata": {
    "slideshow": {
     "slide_type": "subslide"
    }
   }
  },
  {
   "cell_type": "code",
   "execution_count": null,
   "source": [
    "a = 2 ** 10"
   ],
   "outputs": [],
   "metadata": {
    "slideshow": {
     "slide_type": "fragment"
    }
   }
  },
  {
   "cell_type": "markdown",
   "source": [
    "* pas de texte en sortie;\r\n",
    "* car cette instruction est une *affectation* qui n'a pas de valeur (contrairement aux expressions);"
   ],
   "metadata": {
    "slideshow": {
     "slide_type": "fragment"
    }
   }
  },
  {
   "cell_type": "markdown",
   "source": [
    "**Afficher la valeur de la variable**\r\n",
    "\r\n",
    "---\r\n",
    "Deux possibilités:"
   ],
   "metadata": {
    "slideshow": {
     "slide_type": "subslide"
    }
   }
  },
  {
   "cell_type": "code",
   "execution_count": null,
   "source": [
    "a"
   ],
   "outputs": [],
   "metadata": {
    "slideshow": {
     "slide_type": "fragment"
    }
   }
  },
  {
   "cell_type": "code",
   "execution_count": null,
   "source": [
    "print(a)"
   ],
   "outputs": [],
   "metadata": {
    "slideshow": {
     "slide_type": "fragment"
    }
   }
  },
  {
   "cell_type": "markdown",
   "source": [
    "La première est spécifique du notebook. \r\n",
    "\r\n",
    "Il vaut mieux **privilégier la seconde**.\r\n",
    "\r\n",
    "**Question**: au final, que calcule l'expression `2 ** 10`?"
   ],
   "metadata": {
    "slideshow": {
     "slide_type": "fragment"
    }
   }
  },
  {
   "cell_type": "markdown",
   "source": [
    "Une puissance."
   ],
   "metadata": {}
  },
  {
   "cell_type": "markdown",
   "source": [
    "**Ordre d'évaluation du notebook: prudence**\r\n",
    "\r\n",
    "---"
   ],
   "metadata": {
    "slideshow": {
     "slide_type": "subslide"
    }
   }
  },
  {
   "cell_type": "markdown",
   "source": [
    "Montrer que l'affichage dépend de l'ordre d'évaluation et pas de l'ordre d'apparition en évaluant les cellules plusieurs fois dans des ordres différents."
   ],
   "metadata": {
    "slideshow": {
     "slide_type": "notes"
    }
   }
  },
  {
   "cell_type": "code",
   "execution_count": null,
   "source": [
    "print(a)"
   ],
   "outputs": [],
   "metadata": {
    "slideshow": {
     "slide_type": "fragment"
    }
   }
  },
  {
   "cell_type": "code",
   "execution_count": null,
   "source": [
    "a = False"
   ],
   "outputs": [],
   "metadata": {
    "slideshow": {
     "slide_type": "fragment"
    }
   }
  },
  {
   "cell_type": "code",
   "execution_count": null,
   "source": [
    "print(a)"
   ],
   "outputs": [],
   "metadata": {
    "slideshow": {
     "slide_type": "fragment"
    }
   }
  },
  {
   "cell_type": "code",
   "execution_count": null,
   "source": [
    "a = 0.1 ** 10"
   ],
   "outputs": [],
   "metadata": {
    "slideshow": {
     "slide_type": "fragment"
    }
   }
  },
  {
   "cell_type": "code",
   "execution_count": null,
   "source": [
    "print(a)"
   ],
   "outputs": [],
   "metadata": {
    "slideshow": {
     "slide_type": "fragment"
    }
   }
  },
  {
   "cell_type": "markdown",
   "source": [
    "**Le notebook ne se limite pas à des calculs numériques**\r\n",
    "\r\n",
    "---"
   ],
   "metadata": {
    "slideshow": {
     "slide_type": "subslide"
    }
   }
  },
  {
   "cell_type": "code",
   "execution_count": null,
   "source": [
    "import numpy\r\n",
    "from pylab import imshow, show\r\n",
    "\r\n",
    "def mandel(x, y, max_iters):\r\n",
    "  \"\"\"\r\n",
    "    Given the real and imaginary parts of a complex number,\r\n",
    "    determine if it is a candidate for membership in the Mandelbrot\r\n",
    "    set given a fixed number of iterations.\r\n",
    "  \"\"\"\r\n",
    "  c = complex(x, y)\r\n",
    "  z = 0.0j\r\n",
    "  for i in range(max_iters):\r\n",
    "    z = z*z + c\r\n",
    "    if (z.real*z.real + z.imag*z.imag) >= 4:\r\n",
    "      return i\r\n",
    "  return max_iters\r\n",
    "\r\n",
    "def create_fractal(min_x, max_x, min_y, max_y, image, iters):\r\n",
    "  height = image.shape[0]\r\n",
    "  width = image.shape[1]\r\n",
    "  pixel_size_x = (max_x - min_x) / width\r\n",
    "  pixel_size_y = (max_y - min_y) / height\r\n",
    "    \r\n",
    "  for x in range(width):\r\n",
    "    real = min_x + x * pixel_size_x\r\n",
    "    for y in range(height):\r\n",
    "      imag = min_y + y * pixel_size_y\r\n",
    "      color = mandel(real, imag, iters)\r\n",
    "      image[y, x] = color\r\n",
    "\r\n",
    "image = numpy.zeros((1024, 1536), dtype = numpy.uint8)\r\n",
    "create_fractal(-2.0, 1.0, -1.0, 1.0, image, 20) \r\n",
    "\r\n",
    "imshow(image)\r\n",
    "show()"
   ],
   "outputs": [],
   "metadata": {
    "slideshow": {
     "slide_type": "fragment"
    }
   }
  },
  {
   "cell_type": "markdown",
   "source": [
    "## 2. Les variables\r\n",
    "---\r\n",
    "Un premier exemple:"
   ],
   "metadata": {
    "slideshow": {
     "slide_type": "slide"
    }
   }
  },
  {
   "cell_type": "code",
   "execution_count": null,
   "source": [
    "x = 2\r\n",
    "y = x\r\n",
    "print(x, y)\r\n",
    "y = 3\r\n",
    "print(x, y)"
   ],
   "outputs": [],
   "metadata": {
    "slideshow": {
     "slide_type": "fragment"
    }
   }
  },
  {
   "cell_type": "markdown",
   "source": [
    "**Notes:** \r\n",
    "* `2` et `3` sont des *objets* de *type entier* (cf plus tard)\r\n",
    "* `x` et `y` sont des identifiants qui font référence à l'un de ces objets\r\n",
    "* règle de style: on met un espace après une virgule mais pas avant"
   ],
   "metadata": {
    "slideshow": {
     "slide_type": "fragment"
    }
   }
  },
  {
   "cell_type": "markdown",
   "source": [
    "**Echanger les valeurs de deux variables**\r\n",
    "\r\n",
    "---\r\n"
   ],
   "metadata": {
    "slideshow": {
     "slide_type": "subslide"
    }
   }
  },
  {
   "cell_type": "code",
   "execution_count": null,
   "source": [
    "x = 2\r\n",
    "y = 3\r\n",
    "#échanger la valeur des 2 variables ici\r\n",
    "\r\n",
    "print(x, y)"
   ],
   "outputs": [],
   "metadata": {
    "slideshow": {
     "slide_type": "fragment"
    }
   }
  },
  {
   "cell_type": "code",
   "execution_count": null,
   "source": [
    "#Méthode fausse\r\n",
    "x = 2\r\n",
    "y = 3\r\n",
    "x = y\r\n",
    "y = x\r\n",
    "print(x, y)\r\n",
    "\r\n",
    "#première méthode\r\n",
    "x = 2\r\n",
    "y = 3\r\n",
    "z = x\r\n",
    "x = y\r\n",
    "y = z\r\n",
    "print(x, y)\r\n",
    "\r\n",
    "#deuxième méthode plus pythonesque: utilisation de tuples\r\n",
    "x = 2\r\n",
    "y = 3\r\n",
    "x, y = y, x\r\n",
    "print(x, y)"
   ],
   "outputs": [],
   "metadata": {
    "slideshow": {
     "slide_type": "notes"
    }
   }
  },
  {
   "cell_type": "markdown",
   "source": [
    "**Question**: et permuter 3 variables circulairement?"
   ],
   "metadata": {
    "slideshow": {
     "slide_type": "fragment"
    }
   }
  },
  {
   "cell_type": "code",
   "execution_count": null,
   "source": [
    "x, y, z = 2, 3, 4\r\n",
    "x, y, z = y, z, x\r\n",
    "print(x, y, z)"
   ],
   "outputs": [],
   "metadata": {
    "slideshow": {
     "slide_type": "notes"
    }
   }
  },
  {
   "cell_type": "code",
   "execution_count": null,
   "source": [],
   "outputs": [],
   "metadata": {
    "slideshow": {
     "slide_type": "fragment"
    }
   }
  },
  {
   "cell_type": "markdown",
   "source": [
    "**Remarque**: on a ajouté un commentaire avec le caractère `#` "
   ],
   "metadata": {
    "slideshow": {
     "slide_type": "fragment"
    }
   }
  },
  {
   "cell_type": "markdown",
   "source": [
    "**Remarques sur l'affectation**\r\n",
    "\r\n",
    "---\r\n",
    "Contrairement à l'égalité en maths, l'opérateur d'affectation `=` n'est pas symétrique:"
   ],
   "metadata": {
    "slideshow": {
     "slide_type": "subslide"
    }
   }
  },
  {
   "cell_type": "code",
   "execution_count": null,
   "source": [
    "5 = x"
   ],
   "outputs": [],
   "metadata": {
    "slideshow": {
     "slide_type": "fragment"
    }
   }
  },
  {
   "cell_type": "markdown",
   "source": [
    "* l'opérande de gauche doit être une variable\r\n",
    "* l'opérande de droite doit être une expression ($\\approx$ avoir une valeur)"
   ],
   "metadata": {
    "slideshow": {
     "slide_type": "fragment"
    }
   }
  },
  {
   "cell_type": "markdown",
   "source": [
    "**Règles de nommage des variables**\r\n",
    "\r\n",
    "---\r\n",
    "\r\n",
    "* caractères autorisés:\r\n",
    "    * caractère alphabétique (A à Z) en majuscule ou minuscule\r\n",
    "    * chiffres (0 à 9)\r\n",
    "    * caractère souligné `_` (touche 8 du clavier)\r\n",
    "    * et c'est tout! Ni espace, ni caractères accentués...\r\n",
    "* le nom ne doit pas commencer par un chiffre\r\n",
    "* Python est sensible à la casse: les variables `toto` et `toTo` sont différentes\r\n",
    "* ne pas utiliser un mot réservé du langage comme `print` et toutes les fonctions natives que nous verrons\r\n",
    "* recommandations annexes:\r\n",
    "    * sauf exceptions, donner un nom explicite aux variables tel `nb_de_vie`\r\n",
    "    * suivre cet exemple, cad séparer les mots par des `_` sans majuscules\r\n",
    "    * éviter d'autres formes telles `NbDeVie`; au moins être cohérent dans tout le programme\r\n"
   ],
   "metadata": {
    "slideshow": {
     "slide_type": "subslide"
    }
   }
  },
  {
   "cell_type": "markdown",
   "source": [
    "## 3. Types de données\r\n",
    "---\r\n",
    "\r\n",
    "Le type d'une donnée détermine:\r\n",
    "* les opérations que l'on peut lui appliquer\r\n",
    "* les valeurs qu'elle peut prendre\r\n",
    "\r\n",
    "Les types prédéfinis que l'on va manipuler au début sont:\r\n",
    "* les nombres entiers\r\n",
    "* les nombres flottants\r\n",
    "* les nombres booléens\r\n",
    "* les chaînes de caractères\r\n",
    "\r\n",
    "**Question**: donner des exemples d'opérations que l'on doit pouvoir faire avec ces types."
   ],
   "metadata": {
    "slideshow": {
     "slide_type": "slide"
    }
   }
  },
  {
   "cell_type": "markdown",
   "source": [
    "**Afficher les types**\r\n",
    "\r\n",
    "---"
   ],
   "metadata": {
    "slideshow": {
     "slide_type": "subslide"
    }
   }
  },
  {
   "cell_type": "code",
   "execution_count": null,
   "source": [
    "a = 5\r\n",
    "print(type(a), type(7))"
   ],
   "outputs": [],
   "metadata": {
    "slideshow": {
     "slide_type": "fragment"
    }
   }
  },
  {
   "cell_type": "code",
   "execution_count": null,
   "source": [
    "a = 3.14\r\n",
    "print(type(a))"
   ],
   "outputs": [],
   "metadata": {
    "slideshow": {
     "slide_type": "fragment"
    }
   }
  },
  {
   "cell_type": "code",
   "execution_count": null,
   "source": [
    "a = (5 < 2)\r\n",
    "print(a, type(a))"
   ],
   "outputs": [],
   "metadata": {
    "slideshow": {
     "slide_type": "fragment"
    }
   }
  },
  {
   "cell_type": "code",
   "execution_count": null,
   "source": [
    "print(type(\"hello world\"))"
   ],
   "outputs": [],
   "metadata": {
    "slideshow": {
     "slide_type": "fragment"
    }
   }
  },
  {
   "cell_type": "markdown",
   "source": [
    "**Remarque**: le type d'une variable peut changer au cours du temps, et il n'est pas explicité par le programmeur (typage *dynamique* et *implicite*)."
   ],
   "metadata": {
    "slideshow": {
     "slide_type": "fragment"
    }
   }
  },
  {
   "cell_type": "markdown",
   "source": [
    "**Type entier**\r\n",
    "\r\n",
    "---\r\n",
    "Les entiers ont une précision arbitraire."
   ],
   "metadata": {
    "slideshow": {
     "slide_type": "subslide"
    }
   }
  },
  {
   "cell_type": "code",
   "execution_count": null,
   "source": [
    "a = 10 ** 10\r\n",
    "print(a ** 10)"
   ],
   "outputs": [],
   "metadata": {
    "slideshow": {
     "slide_type": "fragment"
    }
   }
  },
  {
   "cell_type": "markdown",
   "source": [
    "* division entière"
   ],
   "metadata": {
    "slideshow": {
     "slide_type": "fragment"
    }
   }
  },
  {
   "cell_type": "code",
   "execution_count": null,
   "source": [
    "10 // 3"
   ],
   "outputs": [],
   "metadata": {
    "slideshow": {
     "slide_type": "fragment"
    }
   }
  },
  {
   "cell_type": "markdown",
   "source": [
    "* division flottante"
   ],
   "metadata": {
    "slideshow": {
     "slide_type": "fragment"
    }
   }
  },
  {
   "cell_type": "code",
   "execution_count": null,
   "source": [
    "10 / 3"
   ],
   "outputs": [],
   "metadata": {
    "slideshow": {
     "slide_type": "fragment"
    }
   }
  },
  {
   "cell_type": "markdown",
   "source": [
    "* modulo"
   ],
   "metadata": {
    "slideshow": {
     "slide_type": "fragment"
    }
   }
  },
  {
   "cell_type": "code",
   "execution_count": null,
   "source": [
    "10 % 3"
   ],
   "outputs": [],
   "metadata": {
    "slideshow": {
     "slide_type": "fragment"
    }
   }
  },
  {
   "cell_type": "markdown",
   "source": [
    "**Questions**\r\n",
    "\r\n",
    "---\r\n",
    "Marcel met 17 minutes et 37 secondes pour venir à la fac. Combien de secondes cela fait-il au total?"
   ],
   "metadata": {
    "slideshow": {
     "slide_type": "subslide"
    }
   }
  },
  {
   "cell_type": "code",
   "execution_count": null,
   "source": [
    "res = 17 * 60 + 37\r\n",
    "print(res)"
   ],
   "outputs": [],
   "metadata": {
    "slideshow": {
     "slide_type": "notes"
    }
   }
  },
  {
   "cell_type": "code",
   "execution_count": null,
   "source": [],
   "outputs": [],
   "metadata": {
    "slideshow": {
     "slide_type": "fragment"
    }
   }
  },
  {
   "cell_type": "markdown",
   "source": [
    "Il fait l'aller retour cinq fois par semaines. Combien d'heures, minutes et seconde passe-t'il à faire ce trajet dans la semaine?"
   ],
   "metadata": {
    "slideshow": {
     "slide_type": "fragment"
    }
   }
  },
  {
   "cell_type": "code",
   "execution_count": null,
   "source": [
    "s_tot = 2 * 5 * res\r\n",
    "h = s_tot // 3600\r\n",
    "s_tot = s_tot % 3600\r\n",
    "m = s_tot // 60\r\n",
    "s = s_tot % 60\r\n",
    "print(h, m, s)"
   ],
   "outputs": [],
   "metadata": {
    "slideshow": {
     "slide_type": "notes"
    }
   }
  },
  {
   "cell_type": "code",
   "execution_count": null,
   "source": [],
   "outputs": [],
   "metadata": {
    "slideshow": {
     "slide_type": "fragment"
    }
   }
  },
  {
   "cell_type": "markdown",
   "source": [
    "**Opérateurs d'affectation augmentés**\r\n",
    "\r\n",
    "---\r\n",
    "Ajouter la valeur de `b` à la variable `a`:"
   ],
   "metadata": {
    "slideshow": {
     "slide_type": "subslide"
    }
   }
  },
  {
   "cell_type": "code",
   "execution_count": null,
   "source": [
    "a, b = 2, 3\r\n",
    "a += b\r\n",
    "print(a)"
   ],
   "outputs": [],
   "metadata": {
    "slideshow": {
     "slide_type": "fragment"
    }
   }
  },
  {
   "cell_type": "markdown",
   "source": [
    "Incrémenter (ajouter 1 à une) variable:"
   ],
   "metadata": {
    "slideshow": {
     "slide_type": "fragment"
    }
   }
  },
  {
   "cell_type": "code",
   "execution_count": null,
   "source": [
    "a += 1\r\n",
    "print(a)"
   ],
   "outputs": [],
   "metadata": {
    "slideshow": {
     "slide_type": "fragment"
    }
   }
  },
  {
   "cell_type": "markdown",
   "source": [
    "Autres opérateurs: `-=`, `*=`, etc..."
   ],
   "metadata": {
    "slideshow": {
     "slide_type": "fragment"
    }
   }
  },
  {
   "cell_type": "markdown",
   "source": [
    "**Type flottant**\r\n",
    "\r\n",
    "---\r\n",
    "Pour la plupart des nombres à virgule, on manipule une *approximation* de leur valeur."
   ],
   "metadata": {
    "slideshow": {
     "slide_type": "subslide"
    }
   }
  },
  {
   "cell_type": "code",
   "execution_count": null,
   "source": [
    "3 * 0.1 == 0.3"
   ],
   "outputs": [],
   "metadata": {
    "slideshow": {
     "slide_type": "fragment"
    }
   }
  },
  {
   "cell_type": "markdown",
   "source": [
    "La valeur exacte d'un flottant est donné par la fraction des 2 nombres suivants:"
   ],
   "metadata": {
    "slideshow": {
     "slide_type": "fragment"
    }
   }
  },
  {
   "cell_type": "code",
   "execution_count": null,
   "source": [
    "(0.1).as_integer_ratio()"
   ],
   "outputs": [],
   "metadata": {
    "slideshow": {
     "slide_type": "fragment"
    }
   }
  },
  {
   "cell_type": "markdown",
   "source": [
    "Les librairies `decimal` ou `fractions` permettent de faire du calcul exact."
   ],
   "metadata": {
    "slideshow": {
     "slide_type": "notes"
    }
   }
  },
  {
   "cell_type": "markdown",
   "source": [
    "**Utiliser des fonctions réelles standard**\r\n",
    "\r\n",
    "---"
   ],
   "metadata": {
    "slideshow": {
     "slide_type": "subslide"
    }
   }
  },
  {
   "cell_type": "code",
   "execution_count": null,
   "source": [
    "cos(3.14)"
   ],
   "outputs": [],
   "metadata": {
    "slideshow": {
     "slide_type": "fragment"
    }
   }
  },
  {
   "cell_type": "code",
   "execution_count": null,
   "source": [
    "import math\r\n",
    "math.cos(math.pi)"
   ],
   "outputs": [],
   "metadata": {
    "slideshow": {
     "slide_type": "fragment"
    }
   }
  },
  {
   "cell_type": "markdown",
   "source": [
    "La fonction cosinus n'est pas native de Python. Elle est dans le *module* `math`."
   ],
   "metadata": {
    "slideshow": {
     "slide_type": "fragment"
    }
   }
  },
  {
   "cell_type": "markdown",
   "source": [
    "**Type booléen**\r\n",
    "\r\n",
    "---\r\n",
    "Utile pour les *instructions de contrôle* d'un programme.\r\n",
    "* Deux valeurs: `False` et `True`.\r\n",
    "* Opérateurs de l'algèbre de Boole: `and`, `or`, `not`\r\n",
    "* Opérateurs de comparaison:\r\n",
    "    * `>=` supérieur ou égal\r\n",
    "    * `==` test d'égalité\r\n",
    "    * `!=` test de non égalité\r\n",
    "   \r\n",
    "**Question**: tester si une variable est plus petite ou égale à 0 ou bien comprise entre 1 et 3 sans être entière. \r\n"
   ],
   "metadata": {
    "slideshow": {
     "slide_type": "subslide"
    }
   }
  },
  {
   "cell_type": "code",
   "execution_count": null,
   "source": [
    "a = -0.5\r\n",
    "res = (a <= 0) or (a > 1 and a < 3 and a != 2)\r\n",
    "print(res)"
   ],
   "outputs": [],
   "metadata": {
    "slideshow": {
     "slide_type": "notes"
    }
   }
  },
  {
   "cell_type": "code",
   "execution_count": null,
   "source": [],
   "outputs": [],
   "metadata": {
    "slideshow": {
     "slide_type": "fragment"
    }
   }
  },
  {
   "cell_type": "markdown",
   "source": [
    "**Chaînes de caractères (string)**\r\n",
    "\r\n",
    "---\r\n",
    "Suite de caractères entre guillemets (simple ou double)."
   ],
   "metadata": {
    "slideshow": {
     "slide_type": "subslide"
    }
   }
  },
  {
   "cell_type": "code",
   "execution_count": null,
   "source": [
    "s1 = \"hello\"\r\n",
    "s2 = 'world'\r\n",
    "print(s1, s2)"
   ],
   "outputs": [],
   "metadata": {
    "slideshow": {
     "slide_type": "fragment"
    }
   }
  },
  {
   "cell_type": "markdown",
   "source": [
    "Des opérations sur les chaînes de caractères sont fournies nativement:"
   ],
   "metadata": {
    "slideshow": {
     "slide_type": "fragment"
    }
   }
  },
  {
   "cell_type": "code",
   "execution_count": null,
   "source": [
    "print(s1 + s2)\r\n",
    "print(len(s1))\r\n",
    "print(s1 > s2)\r\n",
    "print(s1 in s2)\r\n",
    "print(s1.upper())"
   ],
   "outputs": [],
   "metadata": {
    "slideshow": {
     "slide_type": "fragment"
    }
   }
  },
  {
   "cell_type": "markdown",
   "source": [
    "**Question**: quelle est la signification de ces opérations?"
   ],
   "metadata": {
    "slideshow": {
     "slide_type": "fragment"
    }
   }
  },
  {
   "cell_type": "markdown",
   "source": [
    "1) Assemble les variables.\r\n",
    "2) len() provenant de length, traduit en français \"longueur\", correspond à compter le nbre de caractère d'une variable\r\n",
    "    string.\r\n",
    "3) La variable s1 est supérieure à s2 (or, faux, car c'est des chaînes de caractère et non des nombres).\r\n",
    "4) La variable s1 est dans s2 (or, faux, car 'hello' n'apparaît pas dans s2).\r\n",
    "5) Met en CapLock la variable s1."
   ],
   "metadata": {}
  },
  {
   "cell_type": "markdown",
   "source": [
    "**Connaître plus de fonctions de manipulations des chaînes de caractères**\r\n",
    "\r\n",
    "---\r\n",
    "\r\n",
    "* documentation officielle Python3: [https://docs.python.org/fr/3/library/stdtypes.html#text-sequence-type-str](https://docs.python.org/fr/3/library/stdtypes.html#text-sequence-type-str)\r\n",
    "* faire une recherche sur internet (par exemple sur [stackoverflow](https://stackoverflow.com/)) pour un usage précis\r\n",
    "* directement dans l'interpréteur:"
   ],
   "metadata": {
    "slideshow": {
     "slide_type": "subslide"
    }
   }
  },
  {
   "cell_type": "code",
   "execution_count": null,
   "source": [
    "help(str)"
   ],
   "outputs": [],
   "metadata": {
    "slideshow": {
     "slide_type": "fragment"
    }
   }
  },
  {
   "cell_type": "markdown",
   "source": [
    "Cela fonctionne avec n'importe quel type d'objet:"
   ],
   "metadata": {
    "slideshow": {
     "slide_type": "fragment"
    }
   }
  },
  {
   "cell_type": "code",
   "execution_count": null,
   "source": [
    "help(float)"
   ],
   "outputs": [],
   "metadata": {
    "slideshow": {
     "slide_type": "fragment"
    }
   }
  },
  {
   "cell_type": "markdown",
   "source": [
    "**Des affichages plus sympas**\r\n",
    "\r\n",
    "---"
   ],
   "metadata": {
    "slideshow": {
     "slide_type": "subslide"
    }
   }
  },
  {
   "cell_type": "code",
   "execution_count": null,
   "source": [
    "x, y = 2, 3.5\r\n",
    "print(\"x vaut\", x, \"et y vaut\", y)"
   ],
   "outputs": [],
   "metadata": {
    "slideshow": {
     "slide_type": "fragment"
    }
   }
  },
  {
   "cell_type": "markdown",
   "source": [
    "**Remarque**: la fonction `print` ajoute un espace entre l'affichage de chacun de ses *arguments* et un *retour à la ligne* à la fin.\r\n",
    "\r\n",
    "Arguments $=$ expressions séparées par des virgules entre les parenthèses. "
   ],
   "metadata": {
    "slideshow": {
     "slide_type": "fragment"
    }
   }
  },
  {
   "cell_type": "markdown",
   "source": [
    "**Concaténation**\r\n",
    "\r\n",
    "---\r\n",
    "L'opérateur `+` fait la *concaténation* de deux chaînes de caractères.\r\n",
    "\r\n",
    "Attention à ne pas mélanger les types:"
   ],
   "metadata": {
    "slideshow": {
     "slide_type": "subslide"
    }
   }
  },
  {
   "cell_type": "code",
   "execution_count": null,
   "source": [
    "\"hello\" + 3"
   ],
   "outputs": [],
   "metadata": {
    "slideshow": {
     "slide_type": "fragment"
    }
   }
  },
  {
   "cell_type": "markdown",
   "source": [
    "**Concaténation**\r\n",
    "\r\n",
    "---\r\n",
    "\r\n",
    "Ce qui suit est légal. Devinez le sens de cette expression:"
   ],
   "metadata": {
    "slideshow": {
     "slide_type": "subslide"
    }
   }
  },
  {
   "cell_type": "code",
   "execution_count": null,
   "source": [
    "print(\"hello\" * 3)"
   ],
   "outputs": [],
   "metadata": {
    "slideshow": {
     "slide_type": "fragment"
    }
   }
  },
  {
   "cell_type": "markdown",
   "source": [
    "Comment faire pour afficher 3 fois `hello` en revenant à la ligne à chaque fois?"
   ],
   "metadata": {
    "slideshow": {
     "slide_type": "fragment"
    }
   }
  },
  {
   "cell_type": "code",
   "execution_count": null,
   "source": [
    "print(\"hello\\n\"*3)"
   ],
   "outputs": [],
   "metadata": {
    "slideshow": {
     "slide_type": "notes"
    }
   }
  },
  {
   "cell_type": "markdown",
   "source": [
    "On utilise le retour à la ligne `\\n`."
   ],
   "metadata": {
    "slideshow": {
     "slide_type": "fragment"
    }
   }
  },
  {
   "cell_type": "markdown",
   "source": [
    "**Conversion de types**\r\n",
    "\r\n",
    "---\r\n",
    "* Le mélange de flottants et d'entiers dans une expression numérique donne une valeur flottante"
   ],
   "metadata": {
    "slideshow": {
     "slide_type": "subslide"
    }
   }
  },
  {
   "cell_type": "code",
   "execution_count": null,
   "source": [
    "print(type(5 + 2.0))\r\n",
    "print(type(7 * 1.0))"
   ],
   "outputs": [],
   "metadata": {
    "slideshow": {
     "slide_type": "fragment"
    }
   }
  },
  {
   "cell_type": "markdown",
   "source": [
    "* Fonctions de conversion (utilisable quand cela a un sens):\r\n",
    "    * `int`: conversion en entier\r\n",
    "    * `float`: conversion en flottant\r\n",
    "    * `str`: conversion en chaîne de caractères"
   ],
   "metadata": {
    "slideshow": {
     "slide_type": "fragment"
    }
   }
  },
  {
   "cell_type": "code",
   "execution_count": null,
   "source": [
    "x, y = 2, 3.5\r\n",
    "s = \"x vaut \" + str(x) + \" et y vaut \" + str(y)\r\n",
    "print(s)"
   ],
   "outputs": [],
   "metadata": {
    "slideshow": {
     "slide_type": "fragment"
    }
   }
  },
  {
   "cell_type": "markdown",
   "source": [
    "**Récupérer une valeur tapée au clavier par un utilisateur**\r\n",
    "\r\n",
    "---"
   ],
   "metadata": {
    "slideshow": {
     "slide_type": "subslide"
    }
   }
  },
  {
   "cell_type": "code",
   "execution_count": null,
   "source": [
    "s = input(\"Entrer un texte\\n\")\r\n",
    "print(s)"
   ],
   "outputs": [],
   "metadata": {
    "slideshow": {
     "slide_type": "fragment"
    }
   }
  },
  {
   "cell_type": "code",
   "execution_count": null,
   "source": [
    "s = input(\"entrer un nombre entier\\n\")\r\n",
    "print(\"le nombre qui le précède est\", s - 1)"
   ],
   "outputs": [],
   "metadata": {
    "slideshow": {
     "slide_type": "fragment"
    }
   }
  },
  {
   "cell_type": "code",
   "execution_count": null,
   "source": [
    "s = input(\"entrer un nombre entier\\n\")\r\n",
    "print(\"le nombre qui le précède est\", int(s) - 1)"
   ],
   "outputs": [],
   "metadata": {
    "slideshow": {
     "slide_type": "fragment"
    }
   }
  },
  {
   "cell_type": "markdown",
   "source": [
    "**Questions**\r\n",
    "\r\n",
    "---\r\n",
    "* deviner ce que pourrait valoir les expressions `-1 % 5`, `int(3.14)`, `int(-3.14)`\r\n",
    "* demander un nombre entier à l'utilisateur, puis écrire une expression qui retourne `True` si le nombre est pair, et `False` sinon;\r\n",
    "* écrire une expression qui permet de récupérer le nombre de chiffres de la représentation décimale d'un entier, par exemple de `3 ** 57`;\r\n",
    "* afficher ensuite le chiffre le plus à gauche de ce nombre."
   ],
   "metadata": {
    "slideshow": {
     "slide_type": "subslide"
    }
   }
  },
  {
   "cell_type": "code",
   "execution_count": 14,
   "source": [
    "print(3 ** 57, \"le nombre de chiffres est\", len(str(3 ** 57)))\r\n",
    "s = input(\"Entrer un nombre entier\\n\")\r\n",
    "print(int(s) % 2 == 0)\r\n",
    "#pour afficher le chiffre, il faut se débrouiller avec ce qu'on connait...\r\n",
    "long = len(s)\r\n",
    "print(int(s) // 10 ** (long - 1))\r\n",
    "#la bonne solution (qu'on verra plus tard avec les listes)\r\n",
    "print(s[0])"
   ],
   "outputs": [
    {
     "output_type": "stream",
     "name": "stdout",
     "text": [
      "1570042899082081611640534563 le nombre de chiffres est 28\n",
      "False\n",
      "3\n",
      "3\n"
     ]
    }
   ],
   "metadata": {
    "slideshow": {
     "slide_type": "notes"
    }
   }
  },
  {
   "cell_type": "code",
   "execution_count": null,
   "source": [
    "print(-1 % 5)\r\n",
    "print(int(3.64))\r\n",
    "print(int(-3.64))"
   ],
   "outputs": [],
   "metadata": {
    "slideshow": {
     "slide_type": "fragment"
    }
   }
  },
  {
   "cell_type": "code",
   "execution_count": null,
   "source": [],
   "outputs": [],
   "metadata": {}
  }
 ],
 "metadata": {
  "celltoolbar": "Diaporama",
  "kernelspec": {
   "name": "python3",
   "display_name": "Python 3.9.7 64-bit ('l1-python': conda)"
  },
  "language_info": {
   "codemirror_mode": {
    "name": "ipython",
    "version": 3
   },
   "file_extension": ".py",
   "mimetype": "text/x-python",
   "name": "python",
   "nbconvert_exporter": "python",
   "pygments_lexer": "ipython3",
   "version": "3.9.7"
  },
  "interpreter": {
   "hash": "8f50fe25b899fa78f243ff53d364c8674a4491004bfc2bbce9197341141da9bc"
  }
 },
 "nbformat": 4,
 "nbformat_minor": 1
}